{
  "nbformat": 4,
  "nbformat_minor": 0,
  "metadata": {
    "colab": {
      "provenance": [],
      "toc_visible": true,
      "authorship_tag": "ABX9TyNsiZKOtHFfC/aIN7hzkrVU",
      "include_colab_link": true
    },
    "kernelspec": {
      "name": "python3",
      "display_name": "Python 3"
    },
    "language_info": {
      "name": "python"
    }
  },
  "cells": [
    {
      "cell_type": "markdown",
      "metadata": {
        "id": "view-in-github",
        "colab_type": "text"
      },
      "source": [
        "<a href=\"https://colab.research.google.com/github/MatteoCalzetta/ml-project/blob/main/xray_notebook.ipynb\" target=\"_parent\"><img src=\"https://colab.research.google.com/assets/colab-badge.svg\" alt=\"Open In Colab\"/></a>"
      ]
    },
    {
      "cell_type": "markdown",
      "source": [
        "# Import\n"
      ],
      "metadata": {
        "id": "Aa7vt6iJmOrk"
      }
    },
    {
      "cell_type": "code",
      "source": [
        "import os\n",
        "from google.colab import drive"
      ],
      "metadata": {
        "id": "seSUygsSmR7M"
      },
      "execution_count": 6,
      "outputs": []
    },
    {
      "cell_type": "markdown",
      "source": [
        "# Dataset retrieve"
      ],
      "metadata": {
        "id": "lhAZfXkpmShc"
      }
    },
    {
      "cell_type": "code",
      "source": [
        "# Mount Google Drive\n",
        "drive.mount('/content/drive')\n",
        "\n",
        "# Folder path on google drive\n",
        "dataset_path = '/content/drive/My Drive/Colab Notebooks/chest_xray'\n",
        "\n",
        "# Now list the directory contents\n",
        "print(os.listdir(dataset_path))"
      ],
      "metadata": {
        "id": "bHrnHAR1mYoj",
        "colab": {
          "base_uri": "https://localhost:8080/"
        },
        "outputId": "8183227f-1c66-4b73-a67e-b67718589a70"
      },
      "execution_count": 7,
      "outputs": [
        {
          "output_type": "stream",
          "name": "stdout",
          "text": [
            "Drive already mounted at /content/drive; to attempt to forcibly remount, call drive.mount(\"/content/drive\", force_remount=True).\n",
            "['train', 'test']\n"
          ]
        }
      ]
    }
  ]
}